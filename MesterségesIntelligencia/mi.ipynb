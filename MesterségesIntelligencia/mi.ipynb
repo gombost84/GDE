{
 "cells": [
  {
   "cell_type": "code",
   "execution_count": 1,
   "metadata": {},
   "outputs": [],
   "source": [
    "import pandas as pd\n",
    "import numpy as np\n",
    "import matplotlib.pyplot as plt"
   ]
  },
  {
   "cell_type": "code",
   "execution_count": 2,
   "metadata": {},
   "outputs": [],
   "source": [
    "data = pd.read_csv('Top-50-musicality-global.csv')"
   ]
  },
  {
   "cell_type": "code",
   "execution_count": 3,
   "metadata": {},
   "outputs": [
    {
     "data": {
      "text/html": [
       "<div>\n",
       "<style scoped>\n",
       "    .dataframe tbody tr th:only-of-type {\n",
       "        vertical-align: middle;\n",
       "    }\n",
       "\n",
       "    .dataframe tbody tr th {\n",
       "        vertical-align: top;\n",
       "    }\n",
       "\n",
       "    .dataframe thead th {\n",
       "        text-align: right;\n",
       "    }\n",
       "</style>\n",
       "<table border=\"1\" class=\"dataframe\">\n",
       "  <thead>\n",
       "    <tr style=\"text-align: right;\">\n",
       "      <th></th>\n",
       "      <th>Unnamed: 0</th>\n",
       "      <th>Popularity</th>\n",
       "      <th>Danceability</th>\n",
       "      <th>Acousticness</th>\n",
       "      <th>duration</th>\n",
       "      <th>Energy</th>\n",
       "      <th>Instrumentalness</th>\n",
       "      <th>Key</th>\n",
       "      <th>Liveness</th>\n",
       "      <th>Loudness</th>\n",
       "      <th>Mode</th>\n",
       "      <th>Speechiness</th>\n",
       "      <th>Tempo</th>\n",
       "      <th>TSignature</th>\n",
       "      <th>Positiveness</th>\n",
       "    </tr>\n",
       "  </thead>\n",
       "  <tbody>\n",
       "    <tr>\n",
       "      <th>count</th>\n",
       "      <td>3589.000000</td>\n",
       "      <td>3589.000000</td>\n",
       "      <td>3589.000000</td>\n",
       "      <td>3589.000000</td>\n",
       "      <td>3589.000000</td>\n",
       "      <td>3589.000000</td>\n",
       "      <td>3589.000000</td>\n",
       "      <td>3589.000000</td>\n",
       "      <td>3589.000000</td>\n",
       "      <td>3589.000000</td>\n",
       "      <td>3589.000000</td>\n",
       "      <td>3589.000000</td>\n",
       "      <td>3589.000000</td>\n",
       "      <td>3589.000000</td>\n",
       "      <td>3589.000000</td>\n",
       "    </tr>\n",
       "    <tr>\n",
       "      <th>mean</th>\n",
       "      <td>1794.000000</td>\n",
       "      <td>78.451101</td>\n",
       "      <td>0.688079</td>\n",
       "      <td>0.285637</td>\n",
       "      <td>193871.083031</td>\n",
       "      <td>0.646463</td>\n",
       "      <td>0.019187</td>\n",
       "      <td>5.348008</td>\n",
       "      <td>0.171895</td>\n",
       "      <td>-6.616918</td>\n",
       "      <td>0.503483</td>\n",
       "      <td>0.105122</td>\n",
       "      <td>121.027742</td>\n",
       "      <td>3.906659</td>\n",
       "      <td>0.528968</td>\n",
       "    </tr>\n",
       "    <tr>\n",
       "      <th>std</th>\n",
       "      <td>1036.199386</td>\n",
       "      <td>15.242710</td>\n",
       "      <td>0.135642</td>\n",
       "      <td>0.258611</td>\n",
       "      <td>47673.155605</td>\n",
       "      <td>0.163505</td>\n",
       "      <td>0.094564</td>\n",
       "      <td>3.494953</td>\n",
       "      <td>0.123540</td>\n",
       "      <td>2.658782</td>\n",
       "      <td>0.500058</td>\n",
       "      <td>0.097852</td>\n",
       "      <td>27.624052</td>\n",
       "      <td>0.433971</td>\n",
       "      <td>0.228932</td>\n",
       "    </tr>\n",
       "    <tr>\n",
       "      <th>min</th>\n",
       "      <td>0.000000</td>\n",
       "      <td>0.000000</td>\n",
       "      <td>0.244000</td>\n",
       "      <td>0.000008</td>\n",
       "      <td>61673.000000</td>\n",
       "      <td>0.024200</td>\n",
       "      <td>0.000000</td>\n",
       "      <td>0.000000</td>\n",
       "      <td>0.015400</td>\n",
       "      <td>-19.518000</td>\n",
       "      <td>0.000000</td>\n",
       "      <td>0.023200</td>\n",
       "      <td>60.038000</td>\n",
       "      <td>1.000000</td>\n",
       "      <td>0.037300</td>\n",
       "    </tr>\n",
       "    <tr>\n",
       "      <th>25%</th>\n",
       "      <td>897.000000</td>\n",
       "      <td>67.000000</td>\n",
       "      <td>0.596000</td>\n",
       "      <td>0.079600</td>\n",
       "      <td>162768.000000</td>\n",
       "      <td>0.543000</td>\n",
       "      <td>0.000000</td>\n",
       "      <td>2.000000</td>\n",
       "      <td>0.097400</td>\n",
       "      <td>-8.065000</td>\n",
       "      <td>0.000000</td>\n",
       "      <td>0.039900</td>\n",
       "      <td>99.904000</td>\n",
       "      <td>4.000000</td>\n",
       "      <td>0.359000</td>\n",
       "    </tr>\n",
       "    <tr>\n",
       "      <th>50%</th>\n",
       "      <td>1794.000000</td>\n",
       "      <td>83.000000</td>\n",
       "      <td>0.706000</td>\n",
       "      <td>0.188000</td>\n",
       "      <td>187027.000000</td>\n",
       "      <td>0.669000</td>\n",
       "      <td>0.000001</td>\n",
       "      <td>5.000000</td>\n",
       "      <td>0.120000</td>\n",
       "      <td>-6.238000</td>\n",
       "      <td>1.000000</td>\n",
       "      <td>0.063300</td>\n",
       "      <td>118.024000</td>\n",
       "      <td>4.000000</td>\n",
       "      <td>0.524000</td>\n",
       "    </tr>\n",
       "    <tr>\n",
       "      <th>75%</th>\n",
       "      <td>2691.000000</td>\n",
       "      <td>90.000000</td>\n",
       "      <td>0.795000</td>\n",
       "      <td>0.441000</td>\n",
       "      <td>219724.000000</td>\n",
       "      <td>0.762000</td>\n",
       "      <td>0.000089</td>\n",
       "      <td>8.000000</td>\n",
       "      <td>0.214000</td>\n",
       "      <td>-4.813000</td>\n",
       "      <td>1.000000</td>\n",
       "      <td>0.131000</td>\n",
       "      <td>139.945000</td>\n",
       "      <td>4.000000</td>\n",
       "      <td>0.720000</td>\n",
       "    </tr>\n",
       "    <tr>\n",
       "      <th>max</th>\n",
       "      <td>3588.000000</td>\n",
       "      <td>100.000000</td>\n",
       "      <td>0.974000</td>\n",
       "      <td>0.984000</td>\n",
       "      <td>641941.000000</td>\n",
       "      <td>0.992000</td>\n",
       "      <td>0.901000</td>\n",
       "      <td>11.000000</td>\n",
       "      <td>0.963000</td>\n",
       "      <td>1.155000</td>\n",
       "      <td>1.000000</td>\n",
       "      <td>0.731000</td>\n",
       "      <td>217.969000</td>\n",
       "      <td>5.000000</td>\n",
       "      <td>0.978000</td>\n",
       "    </tr>\n",
       "  </tbody>\n",
       "</table>\n",
       "</div>"
      ],
      "text/plain": [
       "        Unnamed: 0   Popularity  Danceability  Acousticness       duration  \\\n",
       "count  3589.000000  3589.000000   3589.000000   3589.000000    3589.000000   \n",
       "mean   1794.000000    78.451101      0.688079      0.285637  193871.083031   \n",
       "std    1036.199386    15.242710      0.135642      0.258611   47673.155605   \n",
       "min       0.000000     0.000000      0.244000      0.000008   61673.000000   \n",
       "25%     897.000000    67.000000      0.596000      0.079600  162768.000000   \n",
       "50%    1794.000000    83.000000      0.706000      0.188000  187027.000000   \n",
       "75%    2691.000000    90.000000      0.795000      0.441000  219724.000000   \n",
       "max    3588.000000   100.000000      0.974000      0.984000  641941.000000   \n",
       "\n",
       "            Energy  Instrumentalness          Key     Liveness     Loudness  \\\n",
       "count  3589.000000       3589.000000  3589.000000  3589.000000  3589.000000   \n",
       "mean      0.646463          0.019187     5.348008     0.171895    -6.616918   \n",
       "std       0.163505          0.094564     3.494953     0.123540     2.658782   \n",
       "min       0.024200          0.000000     0.000000     0.015400   -19.518000   \n",
       "25%       0.543000          0.000000     2.000000     0.097400    -8.065000   \n",
       "50%       0.669000          0.000001     5.000000     0.120000    -6.238000   \n",
       "75%       0.762000          0.000089     8.000000     0.214000    -4.813000   \n",
       "max       0.992000          0.901000    11.000000     0.963000     1.155000   \n",
       "\n",
       "              Mode  Speechiness        Tempo   TSignature  Positiveness  \n",
       "count  3589.000000  3589.000000  3589.000000  3589.000000   3589.000000  \n",
       "mean      0.503483     0.105122   121.027742     3.906659      0.528968  \n",
       "std       0.500058     0.097852    27.624052     0.433971      0.228932  \n",
       "min       0.000000     0.023200    60.038000     1.000000      0.037300  \n",
       "25%       0.000000     0.039900    99.904000     4.000000      0.359000  \n",
       "50%       1.000000     0.063300   118.024000     4.000000      0.524000  \n",
       "75%       1.000000     0.131000   139.945000     4.000000      0.720000  \n",
       "max       1.000000     0.731000   217.969000     5.000000      0.978000  "
      ]
     },
     "execution_count": 3,
     "metadata": {},
     "output_type": "execute_result"
    }
   ],
   "source": [
    "data.describe()"
   ]
  },
  {
   "cell_type": "code",
   "execution_count": 4,
   "metadata": {},
   "outputs": [
    {
     "name": "stdout",
     "output_type": "stream",
     "text": [
      "<class 'pandas.core.frame.DataFrame'>\n",
      "RangeIndex: 3589 entries, 0 to 3588\n",
      "Data columns (total 21 columns):\n",
      " #   Column            Non-Null Count  Dtype  \n",
      "---  ------            --------------  -----  \n",
      " 0   Unnamed: 0        3589 non-null   int64  \n",
      " 1   Country           3589 non-null   object \n",
      " 2   Track Name        3583 non-null   object \n",
      " 3   Artist Name       3583 non-null   object \n",
      " 4   Album Name        3583 non-null   object \n",
      " 5   Popularity        3589 non-null   int64  \n",
      " 6   Date              3589 non-null   object \n",
      " 7   Markets           3583 non-null   object \n",
      " 8   Danceability      3589 non-null   float64\n",
      " 9   Acousticness      3589 non-null   float64\n",
      " 10  duration          3589 non-null   int64  \n",
      " 11  Energy            3589 non-null   float64\n",
      " 12  Instrumentalness  3589 non-null   float64\n",
      " 13  Key               3589 non-null   int64  \n",
      " 14  Liveness          3589 non-null   float64\n",
      " 15  Loudness          3589 non-null   float64\n",
      " 16  Mode              3589 non-null   int64  \n",
      " 17  Speechiness       3589 non-null   float64\n",
      " 18  Tempo             3589 non-null   float64\n",
      " 19  TSignature        3589 non-null   int64  \n",
      " 20  Positiveness      3589 non-null   float64\n",
      "dtypes: float64(9), int64(6), object(6)\n",
      "memory usage: 588.9+ KB\n"
     ]
    }
   ],
   "source": [
    "data.info()"
   ]
  },
  {
   "cell_type": "code",
   "execution_count": 5,
   "metadata": {},
   "outputs": [],
   "source": [
    "data['Country'] = pd.Series(data['Country'], dtype=\"string\")\n",
    "data['Track Name'] = pd.Series(data['Country'], dtype=\"string\")\n",
    "data['Artist Name'] = pd.Series(data['Country'], dtype=\"string\")\n",
    "data['Album Name'] = pd.Series(data['Country'], dtype=\"string\")\n",
    "data['Markets'] = pd.Series(data['Country'], dtype=\"string\")\n",
    "data['Date'] = pd.to_datetime(data['Date'], errors='coerce')"
   ]
  },
  {
   "cell_type": "code",
   "execution_count": 6,
   "metadata": {},
   "outputs": [
    {
     "data": {
      "text/plain": [
       "Unnamed: 0                   int64\n",
       "Country             string[python]\n",
       "Track Name          string[python]\n",
       "Artist Name         string[python]\n",
       "Album Name          string[python]\n",
       "Popularity                   int64\n",
       "Date                datetime64[ns]\n",
       "Markets             string[python]\n",
       "Danceability               float64\n",
       "Acousticness               float64\n",
       "duration                     int64\n",
       "Energy                     float64\n",
       "Instrumentalness           float64\n",
       "Key                          int64\n",
       "Liveness                   float64\n",
       "Loudness                   float64\n",
       "Mode                         int64\n",
       "Speechiness                float64\n",
       "Tempo                      float64\n",
       "TSignature                   int64\n",
       "Positiveness               float64\n",
       "dtype: object"
      ]
     },
     "execution_count": 6,
     "metadata": {},
     "output_type": "execute_result"
    }
   ],
   "source": [
    "data.dtypes"
   ]
  },
  {
   "cell_type": "code",
   "execution_count": 7,
   "metadata": {},
   "outputs": [
    {
     "data": {
      "text/plain": [
       "<bound method NDFrame.head of       Unnamed: 0 Country Track Name Artist Name Album Name  Popularity  \\\n",
       "0              0  Global     Global      Global     Global          91   \n",
       "1              1  Global     Global      Global     Global         100   \n",
       "2              2  Global     Global      Global     Global          99   \n",
       "3              3  Global     Global      Global     Global          82   \n",
       "4              4  Global     Global      Global     Global          93   \n",
       "...          ...     ...        ...         ...        ...         ...   \n",
       "3584        3584     VNM        VNM         VNM        VNM          84   \n",
       "3585        3585     VNM        VNM         VNM        VNM          63   \n",
       "3586        3586     VNM        VNM         VNM        VNM          83   \n",
       "3587        3587     VNM        VNM         VNM        VNM          84   \n",
       "3588        3588     VNM        VNM         VNM        VNM          66   \n",
       "\n",
       "           Date Markets  Danceability  Acousticness  ...  Energy  \\\n",
       "0    2023-11-03  Global         0.711        0.0447  ...   0.809   \n",
       "1    2023-09-15  Global         0.750        0.2560  ...   0.733   \n",
       "2    2022-09-23  Global         0.537        0.8270  ...   0.421   \n",
       "3    2023-11-03  Global         0.790        0.3120  ...   0.831   \n",
       "4    2023-10-26  Global         0.596        0.0504  ...   0.658   \n",
       "...         ...     ...           ...           ...  ...     ...   \n",
       "3584 2023-11-03     VNM         0.558        0.6110  ...   0.467   \n",
       "3585 2023-08-16     VNM         0.443        0.8640  ...   0.371   \n",
       "3586 2023-10-06     VNM         0.787        0.0147  ...   0.573   \n",
       "3587 2023-11-03     VNM         0.507        0.5080  ...   0.394   \n",
       "3588 2022-07-11     VNM         0.626        0.3620  ...   0.503   \n",
       "\n",
       "      Instrumentalness  Key  Liveness  Loudness  Mode  Speechiness    Tempo  \\\n",
       "0             0.000000    2    0.3390    -4.389     0       0.0955  106.017   \n",
       "1             0.000000    6    0.1140    -3.180     0       0.0319  111.018   \n",
       "2             0.000000    5    0.1380    -8.720     1       0.0285   98.224   \n",
       "3             0.000000   11    0.0797    -4.185     1       0.0440  124.987   \n",
       "4             0.000000    0    0.1270    -7.346     1       0.0360  100.012   \n",
       "...                ...  ...       ...       ...   ...          ...      ...   \n",
       "3584          0.000000   10    0.1050    -6.292     1       0.0809  100.518   \n",
       "3585          0.780000    5    0.4210   -12.080     0       0.0377   92.468   \n",
       "3586          0.000017    9    0.0926    -6.197     1       0.0606  111.996   \n",
       "3587          0.000000    6    0.0825    -7.188     0       0.0350   77.955   \n",
       "3588          0.000001    5    0.0762    -8.753     1       0.0389  140.014   \n",
       "\n",
       "      TSignature  Positiveness  \n",
       "0              4         0.816  \n",
       "1              1         0.844  \n",
       "2              4         0.524  \n",
       "3              4         0.872  \n",
       "4              4         0.176  \n",
       "...          ...           ...  \n",
       "3584           4         0.563  \n",
       "3585           4         0.189  \n",
       "3586           4         0.575  \n",
       "3587           4         0.164  \n",
       "3588           4         0.574  \n",
       "\n",
       "[3589 rows x 21 columns]>"
      ]
     },
     "execution_count": 7,
     "metadata": {},
     "output_type": "execute_result"
    }
   ],
   "source": [
    "data.head"
   ]
  },
  {
   "cell_type": "code",
   "execution_count": 8,
   "metadata": {},
   "outputs": [
    {
     "data": {
      "text/plain": [
       "<bound method NDFrame.head of       Unnamed: 0 Country Track Name Artist Name Album Name  Popularity  \\\n",
       "3112        3112     ZAF        ZAF         ZAF        ZAF         100   \n",
       "3123        3123     ZAF        ZAF         ZAF        ZAF          98   \n",
       "3094        3094     ZAF        ZAF         ZAF        ZAF          95   \n",
       "3119        3119     ZAF        ZAF         ZAF        ZAF          95   \n",
       "3132        3132     ZAF        ZAF         ZAF        ZAF          95   \n",
       "...          ...     ...        ...         ...        ...         ...   \n",
       "816          816     ARE        ARE         ARE        ARE          82   \n",
       "847          847     ARE        ARE         ARE        ARE          82   \n",
       "815          815     ARE        ARE         ARE        ARE          81   \n",
       "826          826     ARE        ARE         ARE        ARE          76   \n",
       "839          839     ARE        ARE         ARE        ARE          71   \n",
       "\n",
       "           Date Markets  Danceability  Acousticness  ...  Energy  \\\n",
       "3112 2023-09-15     ZAF         0.750       0.25600  ...  0.7330   \n",
       "3123 2023-09-01     ZAF         0.628       0.70100  ...  0.5230   \n",
       "3094 2023-07-28     ZAF         0.673       0.08560  ...  0.7220   \n",
       "3119 2023-06-16     ZAF         0.847       0.11900  ...  0.6220   \n",
       "3132 2023-07-13     ZAF         0.444       0.95900  ...  0.0911   \n",
       "...         ...     ...           ...           ...  ...     ...   \n",
       "816  2023-10-24     ARE         0.724       0.00196  ...  0.8510   \n",
       "847  2014-10-27     ARE         0.753       0.08500  ...  0.6780   \n",
       "815  2023-04-27     ARE         0.799       0.42900  ...  0.8020   \n",
       "826  2023-09-22     ARE         0.480       0.52600  ...  0.5710   \n",
       "839  2023-10-19     ARE         0.623       0.00735  ...  0.8720   \n",
       "\n",
       "      Instrumentalness  Key  Liveness  Loudness  Mode  Speechiness    Tempo  \\\n",
       "3112          0.000000    6    0.1140    -3.180     0       0.0319  111.018   \n",
       "3123          0.002740   11    0.2190    -8.307     0       0.0946  169.982   \n",
       "3094          0.000000    3    0.1370    -3.495     0       0.0755  117.187   \n",
       "3119          0.000000    1    0.2850    -6.747     0       0.0903  130.001   \n",
       "3132          0.000001    0    0.0980   -17.665     1       0.0307   78.403   \n",
       "...                ...  ...       ...       ...   ...          ...      ...   \n",
       "816           0.038000    4    0.0513    -6.068     0       0.0297   99.998   \n",
       "847           0.000002    5    0.1300    -5.421     1       0.0644   96.006   \n",
       "815           0.001280   11    0.1710    -5.196     1       0.0371  107.008   \n",
       "826           0.000213    7    0.2320    -7.818     1       0.0420  146.051   \n",
       "839           0.000000    6    0.3780    -5.192     1       0.0817   93.019   \n",
       "\n",
       "      TSignature  Positiveness  \n",
       "3112           1         0.844  \n",
       "3123           4         0.416  \n",
       "3094           4         0.519  \n",
       "3119           4         0.220  \n",
       "3132           4         0.142  \n",
       "...          ...           ...  \n",
       "816            4         0.810  \n",
       "847            4         0.583  \n",
       "815            4         0.811  \n",
       "826            4         0.257  \n",
       "839            4         0.545  \n",
       "\n",
       "[3589 rows x 21 columns]>"
      ]
     },
     "execution_count": 8,
     "metadata": {},
     "output_type": "execute_result"
    }
   ],
   "source": [
    "data.sort_values(['Country', 'Artist Name', 'Album Name', 'Popularity'], ascending=False, inplace=True)\n",
    "data.head"
   ]
  },
  {
   "cell_type": "code",
   "execution_count": 9,
   "metadata": {},
   "outputs": [
    {
     "data": {
      "text/plain": [
       "Unnamed: 0           0\n",
       "Country              0\n",
       "Track Name           0\n",
       "Artist Name          0\n",
       "Album Name           0\n",
       "Popularity           0\n",
       "Date                21\n",
       "Markets              0\n",
       "Danceability         0\n",
       "Acousticness         0\n",
       "duration             0\n",
       "Energy               0\n",
       "Instrumentalness     0\n",
       "Key                  0\n",
       "Liveness             0\n",
       "Loudness             0\n",
       "Mode                 0\n",
       "Speechiness          0\n",
       "Tempo                0\n",
       "TSignature           0\n",
       "Positiveness         0\n",
       "dtype: int64"
      ]
     },
     "execution_count": 9,
     "metadata": {},
     "output_type": "execute_result"
    }
   ],
   "source": [
    "data.isnull().sum()"
   ]
  },
  {
   "cell_type": "code",
   "execution_count": 10,
   "metadata": {},
   "outputs": [],
   "source": [
    "data.dropna(inplace = True)"
   ]
  },
  {
   "cell_type": "code",
   "execution_count": 11,
   "metadata": {},
   "outputs": [
    {
     "data": {
      "text/plain": [
       "count    540.000000\n",
       "mean       6.607407\n",
       "std        7.949139\n",
       "min        1.000000\n",
       "25%        2.000000\n",
       "50%        4.000000\n",
       "75%        8.000000\n",
       "max       57.000000\n",
       "Name: count, dtype: float64"
      ]
     },
     "execution_count": 11,
     "metadata": {},
     "output_type": "execute_result"
    }
   ],
   "source": [
    "data['Danceability'].value_counts().describe()"
   ]
  },
  {
   "cell_type": "code",
   "execution_count": 12,
   "metadata": {},
   "outputs": [
    {
     "data": {
      "text/plain": [
       "count    748.000000\n",
       "mean       4.770053\n",
       "std        6.013199\n",
       "min        1.000000\n",
       "25%        1.000000\n",
       "50%        3.000000\n",
       "75%        5.000000\n",
       "max       47.000000\n",
       "Name: count, dtype: float64"
      ]
     },
     "execution_count": 12,
     "metadata": {},
     "output_type": "execute_result"
    }
   ],
   "source": [
    "data['Positiveness'].value_counts().describe()"
   ]
  },
  {
   "cell_type": "code",
   "execution_count": 13,
   "metadata": {},
   "outputs": [],
   "source": [
    "import seaborn as sb"
   ]
  },
  {
   "cell_type": "code",
   "execution_count": 14,
   "metadata": {},
   "outputs": [
    {
     "data": {
      "text/plain": [
       "np.float64(-0.04232831398003662)"
      ]
     },
     "execution_count": 14,
     "metadata": {},
     "output_type": "execute_result"
    }
   ],
   "source": [
    "data['Popularity'].corr(data['Danceability'])"
   ]
  },
  {
   "cell_type": "code",
   "execution_count": 15,
   "metadata": {},
   "outputs": [
    {
     "data": {
      "text/plain": [
       "np.float64(-0.03504683042852138)"
      ]
     },
     "execution_count": 15,
     "metadata": {},
     "output_type": "execute_result"
    }
   ],
   "source": [
    "data['Popularity'].corr(data['Positiveness'])"
   ]
  },
  {
   "cell_type": "code",
   "execution_count": 16,
   "metadata": {},
   "outputs": [
    {
     "data": {
      "text/plain": [
       "np.float64(-0.012568648205124404)"
      ]
     },
     "execution_count": 16,
     "metadata": {},
     "output_type": "execute_result"
    }
   ],
   "source": [
    "data['Popularity'].corr(data['Tempo'])"
   ]
  },
  {
   "cell_type": "code",
   "execution_count": 17,
   "metadata": {},
   "outputs": [
    {
     "data": {
      "text/plain": [
       "<Axes: >"
      ]
     },
     "execution_count": 17,
     "metadata": {},
     "output_type": "execute_result"
    },
    {
     "data": {
      "image/png": "[encoded data removed]",
      "text/plain": [
       "<Figure size 640x480 with 2 Axes>"
      ]
     },
     "metadata": {},
     "output_type": "display_data"
    }
   ],
   "source": [
    "sb.heatmap(data[['Popularity', 'Danceability', 'Positiveness', 'Tempo']].corr(method='pearson', min_periods=1))"
   ]
  }
 ],
 "metadata": {
  "kernelspec": {
   "display_name": "Python 3",
   "language": "python",
   "name": "python3"
  },
  "language_info": {
   "codemirror_mode": {
    "name": "ipython",
    "version": 3
   },
   "file_extension": ".py",
   "mimetype": "text/x-python",
   "name": "python",
   "nbconvert_exporter": "python",
   "pygments_lexer": "ipython3",
   "version": "3.10.4"
  }
 },
 "nbformat": 4,
 "nbformat_minor": 2
}
